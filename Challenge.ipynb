{
 "cells": [
  {
   "cell_type": "code",
   "execution_count": 458,
   "metadata": {},
   "outputs": [],
   "source": [
    "import numpy as np\n",
    "import cv2 #only for loading images\n",
    "import math\n"
   ]
  },
  {
   "cell_type": "code",
   "execution_count": null,
   "metadata": {},
   "outputs": [],
   "source": [
    "# Resource: http://www.graficaobscura.com/interp/index.html \n",
    "#https://clouard.users.greyc.fr/Pantheon/experiments/rescaling/index-en.html#nearest\n",
    "# https://en.wikipedia.org/wiki/Gaussian_blur\n",
    "#https://courses.cs.vt.edu/~masc1044/L17-Rotation/ScalingNN.html\n"
   ]
  },
  {
   "cell_type": "code",
   "execution_count": 4,
   "metadata": {},
   "outputs": [],
   "source": [
    "img_loc = \"./input/\"\n",
    "out_loc = \"./output/\""
   ]
  },
  {
   "cell_type": "code",
   "execution_count": 475,
   "metadata": {},
   "outputs": [],
   "source": [
    "def brighten(image_path, alpha, save_loc, save_name):\n",
    "    '''Brighten the image\n",
    "    image_path: Path of the image\n",
    "    alpha: brightness constant\n",
    "    save_loc: Save location\n",
    "    save_name: Save Name\n",
    "    out = (1 - alpha)*in0 + alpha*in1\n",
    "    in0 is black image or 0\n",
    "    '''\n",
    "    image = cv2.imread(image_path)\n",
    "    image = np.uint16(image)\n",
    "    image = (1 - alpha)*np.zeros_like(image) + alpha*image\n",
    "    image = np.where(image<255,image,255)\n",
    "    cv2.imwrite(save_loc+save_name+str(alpha)+\".jpg\", image)\n",
    "    print(\"Done Brighten!\")\n"
   ]
  },
  {
   "cell_type": "code",
   "execution_count": 476,
   "metadata": {},
   "outputs": [],
   "source": [
    "image_path = \"./input/princeton_small.jpg\""
   ]
  },
  {
   "cell_type": "code",
   "execution_count": 477,
   "metadata": {},
   "outputs": [
    {
     "name": "stdout",
     "output_type": "stream",
     "text": [
      "Done Brighten!\n",
      "Done Brighten!\n",
      "Done Brighten!\n"
     ]
    }
   ],
   "source": [
    "brighten(image_path, 0.0, \"./output/\", \"princeton_small_brightness_\")\n",
    "brighten(image_path, 0.5, \"./output/\", \"princeton_small_brightness_\")\n",
    "brighten(image_path, 2.0, \"./output/\", \"princeton_small_brightness_\")\n"
   ]
  },
  {
   "cell_type": "code",
   "execution_count": 77,
   "metadata": {},
   "outputs": [],
   "source": [
    "def Luminace(image):\n",
    "    image = np.uint16(image)\n",
    "    return 0.30 * image[:,:,2] + 0.59 * image[:,:,1] + 0.11 * image[:,:,0]"
   ]
  },
  {
   "cell_type": "code",
   "execution_count": 478,
   "metadata": {},
   "outputs": [],
   "source": [
    "def contrast(image_path, alpha, save_loc, save_name):\n",
    "    '''\n",
    "    Reference: \n",
    "    Average Luminance: https://in.mathworks.com/matlabcentral/answers/109662-how-to-write-the-code-for-the-average-luminance-of-input-image\n",
    "    '''\n",
    "    image = cv2.imread(image_path)\n",
    "    image = np.uint16(image)\n",
    "    img = Luminace(image)\n",
    "    img[:] = (np.sum(img))/(img.shape[0]*img.shape[1])\n",
    "    img2 = np.zeros_like(image)\n",
    "    img2[:,:,0] = img\n",
    "    img2[:,:,1] = img\n",
    "    img2[:,:,2] = img\n",
    "    image = (1 - alpha)*img2 + alpha*image\n",
    "    cv2.imwrite(save_loc+save_name+str(alpha)+\".jpg\", image)\n",
    "    print(\"Done Contrast!\")\n",
    "    "
   ]
  },
  {
   "cell_type": "code",
   "execution_count": 479,
   "metadata": {},
   "outputs": [],
   "source": [
    "image_path = \"./input/c.jpg\""
   ]
  },
  {
   "cell_type": "code",
   "execution_count": 480,
   "metadata": {},
   "outputs": [
    {
     "name": "stdout",
     "output_type": "stream",
     "text": [
      "Done Contrast!\n",
      "Done Contrast!\n",
      "Done Contrast!\n",
      "Done Contrast!\n"
     ]
    }
   ],
   "source": [
    "contrast(image_path, -0.5, \"./output/\", \"c_contrast_\")\n",
    "contrast(image_path, 0.0, \"./output/\", \"c_contrast_\")\n",
    "contrast(image_path, 0.5, \"./output/\", \"c_contrast_\")\n",
    "contrast(image_path, 2.0, \"./output/\", \"c_contrast_\")\n",
    "\n"
   ]
  },
  {
   "cell_type": "code",
   "execution_count": 394,
   "metadata": {},
   "outputs": [],
   "source": [
    "def gauss_kernel(shape,sigma):\n",
    "    size = shape[0]\n",
    "    center= size//2\n",
    "    kernel=np.zeros((size,size))\n",
    "    for i in range(size):\n",
    "        for j in range(size):            \n",
    "            diff=((i-center)**2+(j-center)**2)\n",
    "            kernel[i,j]=np.exp(-(diff)/(2*(sigma**2)))\n",
    "    return kernel/np.sum(kernel)      \n",
    "#     return kernel/np.sqrt(2*np.pi*(sigma**2))"
   ]
  },
  {
   "cell_type": "code",
   "execution_count": 539,
   "metadata": {},
   "outputs": [],
   "source": [
    "def convolve2d(image, kernel):\n",
    "    output = np.zeros_like(image)\n",
    "\n",
    "    # Channel 1 \n",
    "    image_padded = np.zeros((image.shape[0] + 2, image.shape[1] + 2))\n",
    "    \n",
    "    image_padded[1:-1, 1:-1] = image[:,:,0]\n",
    "    for x in range(image.shape[1]):\n",
    "        for y in range(image.shape[0]):\n",
    "            output[y, x,0]=(kernel * image_padded[y: y+3, x: x+3]).sum()\n",
    "            \n",
    "    #Channel 2    \n",
    "    image_padded = np.zeros((image.shape[0] + 2, image.shape[1] + 2))\n",
    "    image_padded[1:-1, 1:-1] = image[:,:,1]\n",
    "    for x in range(image.shape[1]):\n",
    "        for y in range(image.shape[0]):\n",
    "            output[y, x,1]=(kernel * image_padded[y: y+3, x: x+3]).sum()\n",
    "    \n",
    "    # Channel 3\n",
    "    image_padded = np.zeros((image.shape[0] + 2, image.shape[1] + 2))\n",
    "    image_padded[1:-1, 1:-1] = image[:,:,2]\n",
    "    for x in range(image.shape[1]):\n",
    "        for y in range(image.shape[0]):\n",
    "            output[y, x,2]=(kernel * image_padded[y: y+3, x: x+3]).sum()  \n",
    "                     \n",
    "\n",
    "    return output"
   ]
  },
  {
   "cell_type": "code",
   "execution_count": 540,
   "metadata": {},
   "outputs": [],
   "source": [
    "def blur(image_path, kernel_shape, sigma, save_loc, save_name):\n",
    "    image = cv2.imread(image_path)\n",
    "    image = np.uint16(image)\n",
    "    cv2.imwrite(save_loc+save_name+str(sigma)+\".jpg\",convolve2d(image,gauss_kernel(kernel_shape,sigma)))\n",
    "    print(\"Done Blur!\")\n",
    "    \n",
    "    "
   ]
  },
  {
   "cell_type": "code",
   "execution_count": 541,
   "metadata": {
    "scrolled": true
   },
   "outputs": [
    {
     "name": "stdout",
     "output_type": "stream",
     "text": [
      "Done Blur!\n",
      "Done Blur!\n",
      "Done Blur!\n"
     ]
    }
   ],
   "source": [
    "blur(\"./input/princeton_small.jpg\", (3,3), 0.125, \"./output/\", \"blur_\")\n",
    "blur(\"./input/princeton_small.jpg\", (3,3), 2, \"./output/\", \"blur_\")\n",
    "blur(\"./input/princeton_small.jpg\", (3,3), 8, \"./output/\", \"blur_\")"
   ]
  },
  {
   "cell_type": "code",
   "execution_count": 407,
   "metadata": {},
   "outputs": [],
   "source": [
    "def sharpen(image_path, kernel_shape, alpha, save_loc, save_name):\n",
    "    image = cv2.imread(image_path)\n",
    "    image = np.uint16(image)\n",
    "    blur = convolve2d(image,gauss_kernel(kernel_shape,2))\n",
    "    image = (1 - alpha)*blur + alpha*image\n",
    "    image = np.where(image<255,image,255)\n",
    "    cv2.imwrite(save_loc+save_name+\".jpg\", image)\n",
    "    print(\"Done sharpen!\")"
   ]
  },
  {
   "cell_type": "code",
   "execution_count": 408,
   "metadata": {},
   "outputs": [
    {
     "name": "stdout",
     "output_type": "stream",
     "text": [
      "Done\n"
     ]
    }
   ],
   "source": [
    "sharpen(\"./input/princeton_small.jpg\", (3,3), 2.5, \"./output/\", \"sharpen\")"
   ]
  },
  {
   "cell_type": "code",
   "execution_count": 520,
   "metadata": {},
   "outputs": [],
   "source": [
    "def detect_edge(image_path, kernel = np.array([[-1,-1,-1],[-1,8,-1],[-1,-1,-1]]), save_loc=None, save_name=None):\n",
    "    image = cv2.imread(image_path)\n",
    "    image = np.uint16(image)\n",
    "    image = convolve2d(image, kernel)\n",
    "    cv2.imwrite(save_loc+save_name+\".jpg\", image)\n",
    "    print(\"Done Edge_detection!\")"
   ]
  },
  {
   "cell_type": "code",
   "execution_count": 521,
   "metadata": {},
   "outputs": [
    {
     "name": "stdout",
     "output_type": "stream",
     "text": [
      "Done Edge_detection!\n"
     ]
    }
   ],
   "source": [
    "detect_edge(\"./input/princeton_small.jpg\", save_loc=\"./output/\", save_name=\"edgedetect\")"
   ]
  },
  {
   "cell_type": "code",
   "execution_count": 553,
   "metadata": {},
   "outputs": [],
   "source": [
    "def Scaling(image_path, Sx, Sy, scaling_method, save_loc):\n",
    "    image = cv2.imread(image_path)\n",
    "    image = np.uint16(image)\n",
    "    w, h = image.shape[:2]\n",
    "    new_width = int(Sx*image.shape[0])\n",
    "    new_height = int(Sy*image.shape[1])\n",
    "    if scaling_method == 'point':\n",
    "        scaled_image = np.zeros([new_width, new_height, 3])\n",
    "        xScale = w/new_width; \n",
    "        yScale = h/new_height;\n",
    "        for i in range(0,new_width):\n",
    "            for j in range(0,new_height):\n",
    "                scaled_image[i , j ]= image[1 + int(i * xScale),1 + int(j * yScale)]\n",
    "                \n",
    "        cv2.imwrite(save_loc+\"scale_point.jpg\", scaled_image)\n",
    "        print(\"Done Point Scaling\")\n",
    "        \n",
    "    if scaling_method == 'gaussian':\n",
    "        scaled_image = np.zeros([new_width, new_height, 3])\n",
    "        scaled_image = np.zeros([new_width, new_height, 3])\n",
    "        xScale = w/new_width; \n",
    "        yScale = h/new_height;\n",
    "        for i in range(0,new_width):\n",
    "            for j in range(0,new_height):\n",
    "                scaled_image[i , j ]= image[1 + int(i * xScale),1 + int(j * yScale)]\n",
    "        scaled_image = convolve2d(scaled_image,gauss_kernel((3,3),1))\n",
    "        cv2.imwrite(save_loc+\"scale_gaussian.jpg\", scaled_image)\n",
    "        print(\"Done Gaussian Scaling\")\n",
    "                \n",
    "    if scaling_method = \"bilinear\": \n",
    "        pass # Understood the theory but could not implement it. \n",
    "    \n",
    "    "
   ]
  },
  {
   "cell_type": "code",
   "execution_count": 554,
   "metadata": {},
   "outputs": [],
   "source": [
    "Scaling(\"./input/scaleinput.jpg\", 0.3,0.3,\"point\",\"./output/\")\n",
    "Scaling(\"./input/scaleinput.jpg\", 0.3,0.3,\"gaussian\",\"./output/\")"
   ]
  },
  {
   "cell_type": "code",
   "execution_count": 481,
   "metadata": {},
   "outputs": [],
   "source": [
    "def Composite(base_image_path, top_image_path, Alpha_channel_path):\n",
    "    base = cv2.imread(base_image_path)\n",
    "    top  = cv2.imread(top_image_path)\n",
    "    Alpha_channel_path = cv2.imread(Alpha_channel_path)\n",
    "    image = ((mask/255)*top)+(base*(1-(mask/255)))\n",
    "    cv2.imwrite(\"./output/composite.jpg\",image)\n",
    "    print(\"Done Composite\")"
   ]
  },
  {
   "cell_type": "code",
   "execution_count": 482,
   "metadata": {},
   "outputs": [],
   "source": [
    "Composite(\"./input/comp_background.jpg\", \"./input/comp_foreground.jpg\", \"./input/comp_mask.jpg\")"
   ]
  },
  {
   "cell_type": "code",
   "execution_count": null,
   "metadata": {},
   "outputs": [],
   "source": []
  }
 ],
 "metadata": {
  "kernelspec": {
   "display_name": "Python 3",
   "language": "python",
   "name": "python3"
  },
  "language_info": {
   "codemirror_mode": {
    "name": "ipython",
    "version": 3
   },
   "file_extension": ".py",
   "mimetype": "text/x-python",
   "name": "python",
   "nbconvert_exporter": "python",
   "pygments_lexer": "ipython3",
   "version": "3.7.3"
  }
 },
 "nbformat": 4,
 "nbformat_minor": 2
}
